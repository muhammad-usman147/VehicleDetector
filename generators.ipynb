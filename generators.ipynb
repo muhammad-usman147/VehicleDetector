{
 "cells": [
  {
   "cell_type": "code",
   "execution_count": 3,
   "metadata": {},
   "outputs": [
    {
     "name": "stderr",
     "output_type": "stream",
     "text": [
      "Using TensorFlow backend.\n"
     ]
    }
   ],
   "source": [
    "#using generators to create some of more images\n",
    "import os\n",
    "import  keras\n",
    "from keras.preprocessing.image import ImageDataGenerator\n",
    "from keras.preprocessing import  image\n",
    "import matplotlib.pyplot  as plt\n",
    "import cv2"
   ]
  },
  {
   "cell_type": "markdown",
   "metadata": {},
   "source": [
    "###### Creating 5 samples of each image"
   ]
  },
  {
   "cell_type": "code",
   "execution_count": 2,
   "metadata": {},
   "outputs": [],
   "source": [
    "img = image.load_img('p/pos1.jpg',target_size=(61,155))"
   ]
  },
  {
   "cell_type": "code",
   "execution_count": 3,
   "metadata": {},
   "outputs": [
    {
     "data": {
      "text/plain": [
       "<matplotlib.image.AxesImage at 0x20a0f6e8f08>"
      ]
     },
     "execution_count": 3,
     "metadata": {},
     "output_type": "execute_result"
    },
    {
     "data": {
      "image/png": "[encoded data removed]",
      "text/plain": [
       "<Figure size 432x288 with 1 Axes>"
      ]
     },
     "metadata": {
      "needs_background": "light"
     },
     "output_type": "display_data"
    }
   ],
   "source": [
    "plt.imshow(img)"
   ]
  },
  {
   "cell_type": "code",
   "execution_count": 1,
   "metadata": {},
   "outputs": [],
   "source": [
    "def Image_DataGenerator():\n",
    "    '''\n",
    "    This fuction is used to create some extra sample images through data augmentation\n",
    "    of both classes, negative and positive\n",
    "    '''\n",
    "    datagen = ImageDataGenerator(rotation_range=10,\n",
    "                                zoom_range=0.4,\n",
    "                                horizontal_flip=True,\n",
    "                                )\n",
    "    images = ['neg2.JPG','neg3.JPG','neg4.JPG','neg5.JPG','neg6.JPG','neg7.JPG']\n",
    "    count = 30\n",
    "    print(\"Creating {T} Total Samples of {S} images\".format(T = len(images)*4,S = len(images)))\n",
    "    for i in images:\n",
    "        img = image.load_img('n/{}'.format(i),target_size=(61,155))\n",
    "        #loading the image with the target size of 61 x 155\n",
    "        samples = 0 #creating 4 samples of each image\n",
    "        x = image.img_to_array(img)\n",
    "        x = x.reshape((1,)+x.shape)\n",
    "        #reshape the 3d image i-e (61 x 155 x 3) into 4d which will be (1 x 61 x 155 x 3)\n",
    "        for batch in datagen.flow(x,batch_size=1):\n",
    "            count += 1\n",
    "            #imgplot = plt.imshow(image.array_to_img(batch[0]))\n",
    "            image.save_img('n/neg{}.jpg'.format(count),image.array_to_img(batch[0]))\n",
    "            samples += 1\n",
    "            if samples == 4:\n",
    "                #creating 4 augmented samples of each image\n",
    "                break"
   ]
  },
  {
   "cell_type": "code",
   "execution_count": 5,
   "metadata": {},
   "outputs": [],
   "source": [
    "def GreyScaleConvert():\n",
    "    dirs = 'p/'\n",
    "    img_to_convert = os.listdir(dirs) \n",
    "    for img in img_to_convert:\n",
    "        x = cv2.imread(dirs+img,0)\n",
    "        x = cv2.cvtColor(x,cv2.COLOR_GRAY2BGR)\n",
    "        cv2.imwrite(dirs+img,x)\n",
    "    #converting all neg images into grey scale"
   ]
  },
  {
   "cell_type": "code",
   "execution_count": 6,
   "metadata": {},
   "outputs": [],
   "source": [
    "GreyScaleConvert()"
   ]
  },
  {
   "cell_type": "code",
   "execution_count": 4,
   "metadata": {},
   "outputs": [
    {
     "name": "stdout",
     "output_type": "stream",
     "text": [
      "Creating 24 Total Samples of 6 images\n"
     ]
    }
   ],
   "source": [
    "Image_DataGenerator()"
   ]
  },
  {
   "cell_type": "code",
   "execution_count": null,
   "metadata": {},
   "outputs": [],
   "source": []
  }
 ],
 "metadata": {
  "kernelspec": {
   "display_name": "Python 3.7.6 64-bit",
   "language": "python",
   "name": "python37664bit0fa2055d49784cf6a0068ccd845e7b34"
  },
  "language_info": {
   "codemirror_mode": {
    "name": "ipython",
    "version": 3
   },
   "file_extension": ".py",
   "mimetype": "text/x-python",
   "name": "python",
   "nbconvert_exporter": "python",
   "pygments_lexer": "ipython3",
   "version": "3.7.6"
  }
 },
 "nbformat": 4,
 "nbformat_minor": 4
}
